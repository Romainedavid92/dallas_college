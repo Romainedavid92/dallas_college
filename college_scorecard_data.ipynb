{
 "cells": [
  {
   "cell_type": "code",
   "execution_count": 1,
   "metadata": {},
   "outputs": [],
   "source": [
    "import pandas as pd\n",
    "pd.set_option('display.max_rows', 500)\n",
    "pd.set_option('display.max_columns', 500)\n",
    "pd.set_option('display.width', 1000)"
   ]
  },
  {
   "cell_type": "code",
   "execution_count": 2,
   "metadata": {},
   "outputs": [],
   "source": [
    "df = pd.read_csv('most_recent_cohort_data.csv', low_memory=False)"
   ]
  },
  {
   "cell_type": "code",
   "execution_count": 3,
   "metadata": {},
   "outputs": [],
   "source": [
    "#for column in df.columns:\n",
    " #   print(f\"'{column}', \")"
   ]
  },
  {
   "cell_type": "code",
   "execution_count": 4,
   "metadata": {},
   "outputs": [],
   "source": [
    "df2 = df[[\n",
    "        'UNITID', 'INSTNM', 'REGION','CITY','STABBR','SCH_DEG','HIGHDEG','LATITUDE','LONGITUDE',\n",
    "         'UGDS', 'UG', 'UGDS_WHITE', 'UGDS_BLACK', 'UGDS_HISP', 'UGDS_ASIAN', 'UGDS_AIAN',\n",
    "        'UGDS_NHPI','UGDS_2MOR','UGDS_NRA','UGDS_UNKN','UGDS_WHITENH','UGDS_BLACKNH','UGDS_API',\n",
    "        'UGDS_AIANOLD','UGDS_HISPOLD', 'COSTT4_A','COSTT4_P', 'TUITIONFEE_IN', 'TUITIONFEE_OUT', 'TUITIONFEE_PROG',\n",
    "        'PCTPELL','C150_L4_WHITE', 'C150_L4_BLACK', 'C150_L4_HISP', 'C150_L4_ASIAN', 'C150_L4_AIAN', 'C150_L4_NHPI', \n",
    "        'C150_L4_2MOR', 'C150_L4_NRA', 'C150_L4_UNKN', 'C150_L4_WHITENH', 'C150_L4_BLACKNH', 'C150_L4_API', \n",
    "        'C150_L4_AIANOLD', 'C150_L4_HISPOLD', 'COUNT_ED', 'MD_EARN_WNE_P6', 'MD_EARN_WNE_P8', 'MD_EARN_WNE_P10',\n",
    "        'MN_EARN_WNE_P6', 'MN_EARN_WNE_P7','MN_EARN_WNE_P8', 'MN_EARN_WNE_P9','MN_EARN_WNE_P10', 'ICLEVEL', 'OPEFLAG', \n",
    "        'MD_EARN_WNE_INC1_P6', 'MD_EARN_WNE_INC2_P6','MD_EARN_WNE_INC3_P6','MD_EARN_WNE_INC1_P10', 'MD_EARN_WNE_INC2_P10'\n",
    "        ,'MD_EARN_WNE_INC3_P10', 'MD_EARN_WNE_INC1_P6','MD_EARN_WNE_INC1_P8','MD_EARN_WNE_INC1_P10'\n",
    "        ,'MD_EARN_WNE_INC2_P6','MD_EARN_WNE_INC2_P8','MD_EARN_WNE_INC2_P10'\n",
    "        ,'MD_EARN_WNE_INC3_P6','MD_EARN_WNE_INC3_P8','MD_EARN_WNE_INC3_P10'\n",
    "        ,'MD_EARN_WNE_MALE0_P6','MD_EARN_WNE_MALE0_P8','MD_EARN_WNE_MALE0_P10'\n",
    "        ,'MD_EARN_WNE_MALE1_P6','MD_EARN_WNE_MALE1_P8','MD_EARN_WNE_MALE1_P10'\n",
    "    ]]"
   ]
  },
  {
   "cell_type": "code",
   "execution_count": 5,
   "metadata": {},
   "outputs": [],
   "source": [
    "mask = ((df2.HIGHDEG == 2) & (df2.STABBR == 'TX') & (df2.SCH_DEG == 2))\n",
    "only_2years = df2.loc[mask]"
   ]
  },
  {
   "cell_type": "code",
   "execution_count": 11,
   "metadata": {},
   "outputs": [],
   "source": [
    "#only_2years"
   ]
  },
  {
   "cell_type": "code",
   "execution_count": 7,
   "metadata": {},
   "outputs": [],
   "source": [
    "dictionary = pd.read_excel('CollegeScorecardDataDictionary.xlsx', sheet_name = 'Institution_Data_Dictionary')"
   ]
  },
  {
   "cell_type": "code",
   "execution_count": 8,
   "metadata": {},
   "outputs": [],
   "source": [
    "column_convert_dict = dict(zip(dictionary['VARIABLE NAME'],dictionary['developer-friendly name']))"
   ]
  },
  {
   "cell_type": "code",
   "execution_count": 9,
   "metadata": {},
   "outputs": [],
   "source": [
    "only_2years_final = only_2years.rename(columns = column_convert_dict)"
   ]
  },
  {
   "cell_type": "code",
   "execution_count": 10,
   "metadata": {},
   "outputs": [],
   "source": [
    "only_2years_final.to_csv('tableau_extract.csv')"
   ]
  },
  {
   "cell_type": "code",
   "execution_count": null,
   "metadata": {},
   "outputs": [],
   "source": []
  },
  {
   "cell_type": "code",
   "execution_count": null,
   "metadata": {},
   "outputs": [],
   "source": []
  }
 ],
 "metadata": {
  "kernelspec": {
   "display_name": "Python 3",
   "language": "python",
   "name": "python3"
  },
  "language_info": {
   "codemirror_mode": {
    "name": "ipython",
    "version": 3
   },
   "file_extension": ".py",
   "mimetype": "text/x-python",
   "name": "python",
   "nbconvert_exporter": "python",
   "pygments_lexer": "ipython3",
   "version": "3.7.7"
  }
 },
 "nbformat": 4,
 "nbformat_minor": 4
}
